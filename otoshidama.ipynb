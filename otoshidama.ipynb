{
 "cells": [
  {
   "cell_type": "code",
   "execution_count": 1,
   "metadata": {},
   "outputs": [],
   "source": [
    "import pandas as pd"
   ]
  },
  {
   "cell_type": "code",
   "execution_count": 2,
   "metadata": {},
   "outputs": [],
   "source": [
    "dama2020 = {'和田じぃじ':[10000,10000],'和田ばぁば':[10000,10000],'ひーちゃん':[2000,2000],'ゆーき':[5000,5000],'ときおか':[2000,1000],'しげちゃん':[2000,1000],'ムトさん':[1000,500]}\n",
    "dama2021 = {'和田じぃじ':[5000,5000],'ひーちゃん':[2000,2000],'ときおか':[5000,2000],'しげちゃん':[2000,1000]}"
   ]
  },
  {
   "cell_type": "code",
   "execution_count": 3,
   "metadata": {},
   "outputs": [
    {
     "output_type": "execute_result",
     "data": {
      "text/plain": [
       "        和田じぃじ  ひーちゃん  ときおか  しげちゃん\n",
       "さわ５歳     5000   2000  5000   2000\n",
       "もとはる３歳   5000   2000  2000   1000"
      ],
      "text/html": "<div>\n<style scoped>\n    .dataframe tbody tr th:only-of-type {\n        vertical-align: middle;\n    }\n\n    .dataframe tbody tr th {\n        vertical-align: top;\n    }\n\n    .dataframe thead th {\n        text-align: right;\n    }\n</style>\n<table border=\"1\" class=\"dataframe\">\n  <thead>\n    <tr style=\"text-align: right;\">\n      <th></th>\n      <th>和田じぃじ</th>\n      <th>ひーちゃん</th>\n      <th>ときおか</th>\n      <th>しげちゃん</th>\n    </tr>\n  </thead>\n  <tbody>\n    <tr>\n      <td>さわ５歳</td>\n      <td>5000</td>\n      <td>2000</td>\n      <td>5000</td>\n      <td>2000</td>\n    </tr>\n    <tr>\n      <td>もとはる３歳</td>\n      <td>5000</td>\n      <td>2000</td>\n      <td>2000</td>\n      <td>1000</td>\n    </tr>\n  </tbody>\n</table>\n</div>"
     },
     "metadata": {},
     "execution_count": 3
    }
   ],
   "source": [
    "df_dama2020 = pd.DataFrame(dama2020,index=['さわ４歳','もと２歳'])\n",
    "df_dama2021 = pd.DataFrame(dama2021,index=['さわ５歳','もとはる３歳'])\n",
    "df_dama2021"
   ]
  },
  {
   "cell_type": "code",
   "execution_count": 4,
   "metadata": {},
   "outputs": [
    {
     "output_type": "execute_result",
     "data": {
      "text/plain": [
       "和田じぃじ    20000\n",
       "和田ばぁば    20000\n",
       "ひーちゃん     4000\n",
       "ゆーき      10000\n",
       "ときおか      3000\n",
       "しげちゃん     3000\n",
       "ムトさん      1500\n",
       "dtype: int64"
      ]
     },
     "metadata": {},
     "execution_count": 4
    }
   ],
   "source": [
    "df_dama2020.sum()"
   ]
  },
  {
   "cell_type": "code",
   "execution_count": 5,
   "metadata": {},
   "outputs": [
    {
     "output_type": "execute_result",
     "data": {
      "text/plain": [
       "さわ４歳      32000\n",
       "もとはる２歳    29500\n",
       "dtype: int64"
      ]
     },
     "metadata": {},
     "execution_count": 5
    }
   ],
   "source": [
    "df_dama2020.sum(axis=1)"
   ]
  },
  {
   "cell_type": "code",
   "execution_count": 6,
   "metadata": {},
   "outputs": [],
   "source": [
    "df_dama2020.to_csv('otoshidama2020.csv')\n",
    "df_dama2021.to_csv('otoshidama2021.csv')"
   ]
  },
  {
   "cell_type": "code",
   "execution_count": null,
   "metadata": {},
   "outputs": [],
   "source": []
  }
 ],
 "metadata": {
  "kernelspec": {
   "display_name": "Python 3",
   "language": "python",
   "name": "python3"
  },
  "language_info": {
   "codemirror_mode": {
    "name": "ipython",
    "version": 3
   },
   "file_extension": ".py",
   "mimetype": "text/x-python",
   "name": "python",
   "nbconvert_exporter": "python",
   "pygments_lexer": "ipython3",
   "version": "3.7.4-final"
  }
 },
 "nbformat": 4,
 "nbformat_minor": 2
}