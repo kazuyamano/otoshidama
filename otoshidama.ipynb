{
  "cells": [
    {
      "metadata": {
        "trusted": true
      },
      "cell_type": "code",
      "source": "import pandas as pd",
      "execution_count": 1,
      "outputs": []
    },
    {
      "metadata": {
        "trusted": true
      },
      "cell_type": "code",
      "source": "dama2020 = {'和田じぃじ':[10000,10000],'和田ばぁば':[10000,10000],'ひーちゃん':[2000,2000],'ゆーき':[5000,5000],'ときおか':[2000,1000],'しげちゃん':[2000,1000]}",
      "execution_count": 2,
      "outputs": []
    },
    {
      "metadata": {
        "trusted": true
      },
      "cell_type": "code",
      "source": "df_dama = pd.DataFrame(dama2020,index=['さわ４歳','もと２歳'])\ndf_dama",
      "execution_count": 3,
      "outputs": [
        {
          "output_type": "execute_result",
          "execution_count": 3,
          "data": {
            "text/html": "<div>\n<style scoped>\n    .dataframe tbody tr th:only-of-type {\n        vertical-align: middle;\n    }\n\n    .dataframe tbody tr th {\n        vertical-align: top;\n    }\n\n    .dataframe thead th {\n        text-align: right;\n    }\n</style>\n<table border=\"1\" class=\"dataframe\">\n  <thead>\n    <tr style=\"text-align: right;\">\n      <th></th>\n      <th>和田じぃじ</th>\n      <th>和田ばぁば</th>\n      <th>ひーちゃん</th>\n      <th>ゆーき</th>\n      <th>ときおか</th>\n      <th>しげちゃん</th>\n    </tr>\n  </thead>\n  <tbody>\n    <tr>\n      <th>さわ４歳</th>\n      <td>10000</td>\n      <td>10000</td>\n      <td>2000</td>\n      <td>5000</td>\n      <td>2000</td>\n      <td>2000</td>\n    </tr>\n    <tr>\n      <th>もと２歳</th>\n      <td>10000</td>\n      <td>10000</td>\n      <td>2000</td>\n      <td>5000</td>\n      <td>1000</td>\n      <td>1000</td>\n    </tr>\n  </tbody>\n</table>\n</div>",
            "text/plain": "      和田じぃじ  和田ばぁば  ひーちゃん   ゆーき  ときおか  しげちゃん\nさわ４歳  10000  10000   2000  5000  2000   2000\nもと２歳  10000  10000   2000  5000  1000   1000"
          },
          "metadata": {}
        }
      ]
    },
    {
      "metadata": {
        "trusted": true
      },
      "cell_type": "code",
      "source": "df_dama['ムトさん']=[1000,500]\ndf_dama",
      "execution_count": 8,
      "outputs": [
        {
          "output_type": "execute_result",
          "execution_count": 8,
          "data": {
            "text/html": "<div>\n<style scoped>\n    .dataframe tbody tr th:only-of-type {\n        vertical-align: middle;\n    }\n\n    .dataframe tbody tr th {\n        vertical-align: top;\n    }\n\n    .dataframe thead th {\n        text-align: right;\n    }\n</style>\n<table border=\"1\" class=\"dataframe\">\n  <thead>\n    <tr style=\"text-align: right;\">\n      <th></th>\n      <th>和田じぃじ</th>\n      <th>和田ばぁば</th>\n      <th>ひーちゃん</th>\n      <th>ゆーき</th>\n      <th>ときおか</th>\n      <th>しげちゃん</th>\n      <th>ムトさん</th>\n    </tr>\n  </thead>\n  <tbody>\n    <tr>\n      <th>さわ４歳</th>\n      <td>10000</td>\n      <td>10000</td>\n      <td>2000</td>\n      <td>5000</td>\n      <td>2000</td>\n      <td>2000</td>\n      <td>1000</td>\n    </tr>\n    <tr>\n      <th>もと２歳</th>\n      <td>10000</td>\n      <td>10000</td>\n      <td>2000</td>\n      <td>5000</td>\n      <td>1000</td>\n      <td>1000</td>\n      <td>500</td>\n    </tr>\n  </tbody>\n</table>\n</div>",
            "text/plain": "      和田じぃじ  和田ばぁば  ひーちゃん   ゆーき  ときおか  しげちゃん  ムトさん\nさわ４歳  10000  10000   2000  5000  2000   2000  1000\nもと２歳  10000  10000   2000  5000  1000   1000   500"
          },
          "metadata": {}
        }
      ]
    },
    {
      "metadata": {
        "trusted": true
      },
      "cell_type": "code",
      "source": "df_dama.sum()",
      "execution_count": 9,
      "outputs": [
        {
          "output_type": "execute_result",
          "execution_count": 9,
          "data": {
            "text/plain": "和田じぃじ    20000\n和田ばぁば    20000\nひーちゃん     4000\nゆーき      10000\nときおか      3000\nしげちゃん     3000\nムトさん      1500\ndtype: int64"
          },
          "metadata": {}
        }
      ]
    },
    {
      "metadata": {
        "trusted": true
      },
      "cell_type": "code",
      "source": "df_dama.sum(axis=1)",
      "execution_count": 10,
      "outputs": [
        {
          "output_type": "execute_result",
          "execution_count": 10,
          "data": {
            "text/plain": "さわ４歳    32000\nもと２歳    29500\ndtype: int64"
          },
          "metadata": {}
        }
      ]
    },
    {
      "metadata": {
        "trusted": true
      },
      "cell_type": "code",
      "source": "df_dama.to_csv('otoshidama2020.csv')",
      "execution_count": 11,
      "outputs": []
    },
    {
      "metadata": {
        "trusted": true
      },
      "cell_type": "code",
      "source": "",
      "execution_count": null,
      "outputs": []
    }
  ],
  "metadata": {
    "kernelspec": {
      "name": "python36",
      "display_name": "Python 3.6",
      "language": "python"
    },
    "language_info": {
      "mimetype": "text/x-python",
      "nbconvert_exporter": "python",
      "name": "python",
      "pygments_lexer": "ipython3",
      "version": "3.6.6",
      "file_extension": ".py",
      "codemirror_mode": {
        "version": 3,
        "name": "ipython"
      }
    }
  },
  "nbformat": 4,
  "nbformat_minor": 2
}